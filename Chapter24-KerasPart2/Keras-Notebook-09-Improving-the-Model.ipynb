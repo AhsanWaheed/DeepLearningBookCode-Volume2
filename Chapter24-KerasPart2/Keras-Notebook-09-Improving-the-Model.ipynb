{
 "cells": [
  {
   "cell_type": "markdown",
   "metadata": {
    "collapsed": true
   },
   "source": [
    "<small>\n",
    "Copyright (c) 2017 Andrew Glassner\n",
    "\n",
    "Permission is hereby granted, free of charge, to any person obtaining a copy of this software and associated documentation files (the \"Software\"), to deal in the Software without restriction, including without limitation the rights to use, copy, modify, merge, publish, distribute, sublicense, and/or sell copies of the Software, and to permit persons to whom the Software is furnished to do so, subject to the following conditions:\n",
    "\n",
    "The above copyright notice and this permission notice shall be included in all copies or substantial portions of the Software.\n",
    "\n",
    "THE SOFTWARE IS PROVIDED \"AS IS\", WITHOUT WARRANTY OF ANY KIND, EXPRESS OR IMPLIED, INCLUDING BUT NOT LIMITED TO THE WARRANTIES OF MERCHANTABILITY, FITNESS FOR A PARTICULAR PURPOSE AND NONINFRINGEMENT. IN NO EVENT SHALL THE AUTHORS OR COPYRIGHT HOLDERS BE LIABLE FOR ANY CLAIM, DAMAGES OR OTHER LIABILITY, WHETHER IN AN ACTION OF CONTRACT, TORT OR OTHERWISE, ARISING FROM, OUT OF OR IN CONNECTION WITH THE SOFTWARE OR THE USE OR OTHER DEALINGS IN THE SOFTWARE.\n",
    "</small>\n",
    "\n",
    "\n",
    "\n",
    "# Deep Learning From Basics to Practice\n",
    "## by Andrew Glassner, https://dlbasics.com, http://glassner.com\n",
    "------\n",
    "## Chapter 23: Keras\n",
    "### Notebook 9: Improving the model"
   ]
  },
  {
   "cell_type": "code",
   "execution_count": null,
   "metadata": {
    "collapsed": false
   },
   "outputs": [],
   "source": [
    "from keras.datasets import mnist\n",
    "from keras.models import Sequential\n",
    "from keras.layers import Dense\n",
    "from keras.utils import np_utils\n",
    "from keras.models import load_model\n",
    "from keras.callbacks import EarlyStopping\n",
    "from keras.optimizers import Adam\n",
    "from keras.layers import Dropout\n",
    "from keras.constraints import maxnorm\n",
    "import h5py\n",
    "import numpy as np\n",
    "\n",
    "from keras import backend as keras_backend\n",
    "keras_backend.set_image_data_format('channels_last')"
   ]
  },
  {
   "cell_type": "code",
   "execution_count": null,
   "metadata": {
    "collapsed": true
   },
   "outputs": [],
   "source": [
    "# Make a File_Helper for saving and loading files.\n",
    "\n",
    "save_files = True\n",
    "\n",
    "import os, sys, inspect\n",
    "current_dir = os.path.dirname(os.path.abspath(inspect.getfile(inspect.currentframe())))\n",
    "sys.path.insert(0, os.path.dirname(current_dir)) # path to parent dir\n",
    "from DLBasics_Utilities import File_Helper\n",
    "file_helper = File_Helper(save_files)"
   ]
  },
  {
   "cell_type": "code",
   "execution_count": null,
   "metadata": {
    "collapsed": false
   },
   "outputs": [],
   "source": [
    "# Load and process the MNIST data\n",
    "\n",
    "random_seed = 42\n",
    "\n",
    "# load the MNIST data\n",
    "(X_train, y_train), (X_test, y_test) = mnist.load_data()\n",
    "image_height = X_train.shape[1]\n",
    "image_width = X_train.shape[2]\n",
    "number_of_pixels = image_height * image_width\n",
    "\n",
    "# cast the sample data to the current Keras floating-point type\n",
    "X_train = keras_backend.cast_to_floatx(X_train)\n",
    "X_test = keras_backend.cast_to_floatx(X_test)\n",
    "\n",
    "# scale data to range [0, 1]\n",
    "X_train /= 255.0\n",
    "X_test /= 255.0\n",
    "\n",
    "# save labels in their non-one-hot form\n",
    "original_y_train = np.copy(y_train)\n",
    "original_y_test = np.copy(y_test)\n",
    "\n",
    "# replace label data with one-hot encoded versions\n",
    "number_of_classes = 1 + max(np.append(y_train, y_test))\n",
    "y_train = np_utils.to_categorical(y_train, number_of_classes)\n",
    "y_test = np_utils.to_categorical(y_test, number_of_classes)\n",
    "\n",
    "# reshape to 2D grid, one line per image\n",
    "X_train = X_train.reshape(X_train.shape[0], number_of_pixels)\n",
    "X_test = X_test.reshape(X_test.shape[0], number_of_pixels)"
   ]
  },
  {
   "cell_type": "code",
   "execution_count": null,
   "metadata": {
    "collapsed": true
   },
   "outputs": [],
   "source": [
    "# These variables are assigned during our pre-processing step. \n",
    "# We'll just assign them directly here for this demonstration.\n",
    "number_of_pixels = 28*28  # size of an MNIST image\n",
    "number_of_classes = 10    # MNIST images are digits 0 to 9\n",
    "\n",
    "def make_one_hidden_layer_model():\n",
    "    # create an empty model\n",
    "    model = Sequential()\n",
    "    # add a fully-connected hidden layer with #nodes = #pixels\n",
    "    model.add(Dense(number_of_pixels, activation='relu',\n",
    "                    input_shape=[number_of_pixels]))\n",
    "    # add an output layer with softmax activation\n",
    "    model.add(Dense(number_of_classes, activation='softmax'))\n",
    "    # compile the model to turn it from specification to code\n",
    "    model.compile(loss='categorical_crossentropy', optimizer='adam', \n",
    "                  metrics=['accuracy'])\n",
    "    return model"
   ]
  },
  {
   "cell_type": "code",
   "execution_count": null,
   "metadata": {
    "collapsed": true
   },
   "outputs": [],
   "source": [
    "def make_two_hidden_layers_model():\n",
    "    model = Sequential()\n",
    "    model.add(Dense(number_of_pixels, input_shape=[number_of_pixels], \n",
    "                    activation='relu'))\n",
    "    model.add(Dense(number_of_pixels, activation='relu'))\n",
    "    model.add(Dense(number_of_classes, activation='softmax'))\n",
    "    model.compile(loss='categorical_crossentropy', optimizer='adam', metrics=['accuracy'])\n",
    "    return model\n",
    "\n",
    "def make_hidden_layer_n_neurons(num_neurons):\n",
    "    model = Sequential()\n",
    "    model.add(Dense(num_neurons, input_shape=[number_of_pixels], \n",
    "                    activation='relu'))\n",
    "    model.add(Dense(number_of_classes, activation='softmax'))\n",
    "    model.compile(loss='categorical_crossentropy', optimizer='adam', metrics=['accuracy'])\n",
    "    return model\n",
    "\n",
    "# make a general model of any number of dense layers, each optionally follows by dropout\n",
    "def make_layers_model(neurons_per_layer, dropout_per_layer, learning_rate=0.001):\n",
    "    model = Sequential()\n",
    "    for i in range(len(neurons_per_layer)):\n",
    "        kwargs = { 'kernel_initializer': 'normal', 'activation': 'relu' }\n",
    "        if i==0:\n",
    "            kwargs['input_dim'] = number_of_pixels\n",
    "        if dropout_per_layer[i]:\n",
    "            kwargs['kernel_constraint'] = maxnorm(3)\n",
    "        model.add(Dense(neurons_per_layer[i], **kwargs))\n",
    "        if dropout_per_layer[i]:\n",
    "            model.add(Dropout(0.2))\n",
    "    model.add(Dense(number_of_classes, activation='softmax'))\n",
    "    model.compile(loss='categorical_crossentropy', optimizer=Adam(lr=learning_rate), metrics=['accuracy'])\n",
    "    return model"
   ]
  },
  {
   "cell_type": "code",
   "execution_count": null,
   "metadata": {
    "collapsed": true
   },
   "outputs": [],
   "source": [
    "# A little utility to draw accuracy and loss plots\n",
    "import matplotlib.pyplot as plt\n",
    "\n",
    "def plot_accuracy_and_loss(history, plot_title, filename):\n",
    "    xs = range(len(history.history['acc']))\n",
    "    # manually change legend location to 'best' when the locations\n",
    "    # here don't look good. \n",
    "\n",
    "    plt.figure(figsize=(10,3))\n",
    "    plt.subplot(1, 2, 1)\n",
    "    plt.plot(xs, history.history['acc'], label='train')\n",
    "    plt.plot(xs, history.history['val_acc'], label='validation')\n",
    "    plt.legend(loc='lower left')\n",
    "    plt.xlabel('epochs')\n",
    "    plt.ylabel('accuracy')\n",
    "    plt.title(plot_title+', Accuracy')\n",
    "\n",
    "    plt.subplot(1, 2, 2)\n",
    "    plt.plot(xs, history.history['loss'], label='train')\n",
    "    plt.plot(xs, history.history['val_loss'], label='validation')\n",
    "    plt.legend(loc='upper left')\n",
    "    plt.xlabel('epochs')\n",
    "    plt.ylabel('loss')\n",
    "    plt.title(plot_title+', Loss')\n",
    "\n",
    "    #plt.tight_layout()\n",
    "    file_helper.save_figure(filename)\n",
    "    plt.show()"
   ]
  },
  {
   "cell_type": "code",
   "execution_count": null,
   "metadata": {
    "collapsed": true
   },
   "outputs": [],
   "source": [
    "# A utility to let us try out lots of variations of models,\n",
    "# batch size, and early stopping, and plot and save the results.\n",
    "#\n",
    "# We use Python's kwargs mechanism is a way to package up the parameters\n",
    "# to a function in a dictionary. It's a little fancy but it saves a huge\n",
    "# amount of code. See the Python docs for how this feature works.\n",
    "#   \n",
    "\n",
    "\n",
    "def run_and_report(model, plot_title=None, filename='generic-filename', \n",
    "                   epochs=100, batch_size=256, verbosity=2, stop_early=False):\n",
    "    np.random.seed(random_seed)\n",
    "    kwargs = { 'validation_data': (X_test, y_test), 'epochs': epochs,\n",
    "              'batch_size': batch_size, 'verbose': verbosity }\n",
    "    if stop_early:\n",
    "        early_stopper = EarlyStopping(monitor='val_loss', patience=10, verbose=1)\n",
    "        kwargs['callbacks'] = [early_stopper]\n",
    "    history = model.fit(X_train, y_train, **kwargs)\n",
    "    plot_accuracy_and_loss(history, plot_title, filename)\n",
    "    models_folder_name = 'NB09-checkpointed-models'\n",
    "    file_helper.check_for_directory(models_folder_name)\n",
    "\n",
    "    filename = models_folder_name+'/'+filename+'-'+str(epochs)+'-epochs.h5'\n",
    "    model.save(filename)\n",
    "    return history"
   ]
  },
  {
   "cell_type": "code",
   "execution_count": null,
   "metadata": {
    "collapsed": false
   },
   "outputs": [],
   "source": [
    "#\n",
    "# WARNING: As batch sizes decrease, running time increases FAST.\n",
    "# Without a GPU, be careful with batch sizes smaller than 256.\n",
    "#\n",
    "import time\n",
    "history_list = []\n",
    "time_list = []\n",
    "for batchsize in [2048, 1024, 512, 256, 128, 64, 32, 16, 8]:\n",
    "    model = make_one_hidden_layer_model()\n",
    "    plot_title = 'Two layers, batchsize='+str(batchsize)\n",
    "    filename = 'two-layers-batch-'+str(batchsize)\n",
    "    start_time = time.time()\n",
    "    history = run_and_report(model, plot_title, filename, batch_size=batchsize, verbosity=0)\n",
    "    end_time = time.time()\n",
    "    elapsed_time = end_time-start_time\n",
    "    history_list.append(history)\n",
    "    print(\"batchsize \",batchsize,\" elapsed time=\",elapsed_time)\n",
    "    time_list.append(elapsed_time)"
   ]
  },
  {
   "cell_type": "code",
   "execution_count": null,
   "metadata": {
    "collapsed": false
   },
   "outputs": [],
   "source": [
    "plot_accuracy_and_loss(history_list[0], 'Two layers, batchsize=2048', 'two-layers-batch-2048')\n",
    "plot_accuracy_and_loss(history_list[1], 'Two layers, batchsize=1024', 'two-layers-batch-1024')\n",
    "plot_accuracy_and_loss(history_list[2], 'Two layers, batchsize=512', 'two-layers-batch-512')\n",
    "plot_accuracy_and_loss(history_list[3], 'Two layers, batchsize=256', 'two-layers-batch-256')\n",
    "plot_accuracy_and_loss(history_list[4], 'Two layers, batchsize=128', 'two-layers-batch-128')\n",
    "plot_accuracy_and_loss(history_list[5], 'Two layers, batchsize=64', 'two-layers-batch-64')\n",
    "plot_accuracy_and_loss(history_list[6], 'Two layers, batchsize=32', 'two-layers-batch-32')\n",
    "plot_accuracy_and_loss(history_list[7], 'Two layers, batchsize=16', 'two-layers-batch-16')\n",
    "plot_accuracy_and_loss(history_list[8], 'Two layers, batchsize=8', 'two-layers-batch-8')"
   ]
  },
  {
   "cell_type": "code",
   "execution_count": null,
   "metadata": {
    "collapsed": false
   },
   "outputs": [],
   "source": [
    "plt.plot(range(len(time_list)), time_list)\n",
    "plt.xlabel('batch size')\n",
    "plt.ylabel('time in seconds')\n",
    "plt.xticks(range(len(time_list)), [2048, 1024, 512, 256, 128, 64, 32, 16, 8])\n",
    "save_figure('batch-timing')\n",
    "plt.show()"
   ]
  },
  {
   "cell_type": "code",
   "execution_count": null,
   "metadata": {
    "collapsed": false
   },
   "outputs": [],
   "source": [
    "model = make_two_hidden_layers_model()\n",
    "history_2HLM = run_and_report(model, 'Two hidden layers', 'two-hidden-layers', batch_size=256, verbosity=2)"
   ]
  },
  {
   "cell_type": "code",
   "execution_count": null,
   "metadata": {
    "collapsed": false
   },
   "outputs": [],
   "source": [
    "model = make_hidden_layer_n_neurons(64)\n",
    "history_fc_64 = run_and_report(model, '64-neuron hidden layer', '64-neuron-hidden-layer', \n",
    "                               batch_size=256, verbosity=2)"
   ]
  },
  {
   "cell_type": "code",
   "execution_count": null,
   "metadata": {
    "collapsed": false
   },
   "outputs": [],
   "source": [
    "model = make_layers_model([32, 32], [False, False])\n",
    "history_32_32 = run_and_report(model, '2 layers, 32 neurons each', '32-32-layers', \n",
    "                               batch_size=256, verbosity=0)"
   ]
  },
  {
   "cell_type": "code",
   "execution_count": null,
   "metadata": {
    "collapsed": false
   },
   "outputs": [],
   "source": [
    "model = make_layers_model([32, 32], [True, True])\n",
    "history_32_DO_32_DO = run_and_report(model, '32,DO,32,DO', '32-DO-32-DO', \n",
    "                               batch_size=256, verbosity=0)"
   ]
  },
  {
   "cell_type": "code",
   "execution_count": null,
   "metadata": {
    "collapsed": false
   },
   "outputs": [],
   "source": [
    "model = make_layers_model([32, 32], [True, True], learning_rate=0.1)\n",
    "history_32_DO_32_DO_LR_p1 = run_and_report(model, '32-DO-32-DO, lr=0.1', '32-DO-32-DO-LR-p1', \n",
    "                               batch_size=256, verbosity=0)"
   ]
  },
  {
   "cell_type": "code",
   "execution_count": null,
   "metadata": {
    "collapsed": false
   },
   "outputs": [],
   "source": [
    "model = make_layers_model([32, 32], [True, True], learning_rate=0.01)\n",
    "history_32_DO_32_DO_LR_p01 = run_and_report(model, '32-DO-32-DO, lr=0.01', '32-DO-32-DO-LR-p01', \n",
    "                               batch_size=256, verbosity=0)"
   ]
  },
  {
   "cell_type": "code",
   "execution_count": null,
   "metadata": {
    "collapsed": true
   },
   "outputs": [],
   "source": []
  },
  {
   "cell_type": "code",
   "execution_count": null,
   "metadata": {
    "collapsed": true
   },
   "outputs": [],
   "source": []
  },
  {
   "cell_type": "code",
   "execution_count": null,
   "metadata": {
    "collapsed": true
   },
   "outputs": [],
   "source": []
  }
 ],
 "metadata": {
  "kernelspec": {
   "display_name": "Python 3",
   "language": "python",
   "name": "python3"
  },
  "language_info": {
   "codemirror_mode": {
    "name": "ipython",
    "version": 3
   },
   "file_extension": ".py",
   "mimetype": "text/x-python",
   "name": "python",
   "nbconvert_exporter": "python",
   "pygments_lexer": "ipython3",
   "version": "3.5.0"
  }
 },
 "nbformat": 4,
 "nbformat_minor": 1
}
