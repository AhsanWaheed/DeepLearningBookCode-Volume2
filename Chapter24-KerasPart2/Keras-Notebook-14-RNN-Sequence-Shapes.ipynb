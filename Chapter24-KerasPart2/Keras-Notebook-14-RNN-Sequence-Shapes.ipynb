{
 "cells": [
  {
   "cell_type": "markdown",
   "metadata": {
    "collapsed": false
   },
   "source": [
    "<small>\n",
    "Copyright (c) 2017 Andrew Glassner\n",
    "\n",
    "Permission is hereby granted, free of charge, to any person obtaining a copy of this software and associated documentation files (the \"Software\"), to deal in the Software without restriction, including without limitation the rights to use, copy, modify, merge, publish, distribute, sublicense, and/or sell copies of the Software, and to permit persons to whom the Software is furnished to do so, subject to the following conditions:\n",
    "\n",
    "The above copyright notice and this permission notice shall be included in all copies or substantial portions of the Software.\n",
    "\n",
    "THE SOFTWARE IS PROVIDED \"AS IS\", WITHOUT WARRANTY OF ANY KIND, EXPRESS OR IMPLIED, INCLUDING BUT NOT LIMITED TO THE WARRANTIES OF MERCHANTABILITY, FITNESS FOR A PARTICULAR PURPOSE AND NONINFRINGEMENT. IN NO EVENT SHALL THE AUTHORS OR COPYRIGHT HOLDERS BE LIABLE FOR ANY CLAIM, DAMAGES OR OTHER LIABILITY, WHETHER IN AN ACTION OF CONTRACT, TORT OR OTHERWISE, ARISING FROM, OUT OF OR IN CONNECTION WITH THE SOFTWARE OR THE USE OR OTHER DEALINGS IN THE SOFTWARE.\n",
    "</small>\n",
    "\n",
    "\n",
    "\n",
    "# Deep Learning From Basics to Practice\n",
    "## by Andrew Glassner, https://dlbasics.com, http://glassner.com\n",
    "------\n",
    "## Chapter 23: Keras\n",
    "### Notebook 14: RNN sequence shapes"
   ]
  },
  {
   "cell_type": "code",
   "execution_count": 1,
   "metadata": {
    "collapsed": false
   },
   "outputs": [
    {
     "name": "stderr",
     "output_type": "stream",
     "text": [
      "Using TensorFlow backend.\n"
     ]
    }
   ],
   "source": [
    "import numpy as np\n",
    "from keras.models import Sequential\n",
    "from keras.layers import LSTM, Dense\n",
    "from sklearn.preprocessing import MinMaxScaler\n",
    "from sklearn.metrics import mean_squared_error\n",
    "import matplotlib.pyplot as plt\n",
    "import math"
   ]
  },
  {
   "cell_type": "code",
   "execution_count": 2,
   "metadata": {
    "collapsed": true
   },
   "outputs": [],
   "source": [
    "def show_output_shapes(data_shape):\n",
    "    def make_model(X_train, return_seqs):\n",
    "        # create and fit the LSTM network\n",
    "        model = Sequential()\n",
    "        model.add(LSTM(4, input_shape=X_train[0].shape, return_sequences=return_seqs))\n",
    "        model.compile(loss='mean_squared_error', optimizer='adam')\n",
    "        return model\n",
    "\n",
    "    data = np.zeros(data_shape)\n",
    "    model = make_model(data, False)\n",
    "    pred = model.predict(data, batch_size=1, verbose=2)\n",
    "    print(\"Input shape: \",data.shape)\n",
    "    print(\"   Without sequences: \",pred.shape)\n",
    "    model = make_model(data, True)\n",
    "    pred = model.predict(data, batch_size=1, verbose=2)\n",
    "    print(\"   With sequences: \",pred.shape)"
   ]
  },
  {
   "cell_type": "code",
   "execution_count": 3,
   "metadata": {
    "collapsed": false
   },
   "outputs": [
    {
     "name": "stdout",
     "output_type": "stream",
     "text": [
      "Input shape:  (2, 5, 3)\n",
      "   Without sequences:  (2, 4)\n",
      "   With sequences:  (2, 5, 4)\n",
      "Input shape:  (1, 3, 1)\n",
      "   Without sequences:  (1, 4)\n",
      "   With sequences:  (1, 3, 4)\n",
      "Input shape:  (1, 5, 1)\n",
      "   Without sequences:  (1, 4)\n",
      "   With sequences:  (1, 5, 4)\n",
      "Input shape:  (1, 3, 2)\n",
      "   Without sequences:  (1, 4)\n",
      "   With sequences:  (1, 3, 4)\n",
      "Input shape:  (1, 5, 2)\n",
      "   Without sequences:  (1, 4)\n",
      "   With sequences:  (1, 5, 4)\n",
      "Input shape:  (2, 3, 2)\n",
      "   Without sequences:  (2, 4)\n",
      "   With sequences:  (2, 3, 4)\n",
      "Input shape:  (2, 5, 2)\n",
      "   Without sequences:  (2, 4)\n",
      "   With sequences:  (2, 5, 4)\n"
     ]
    }
   ],
   "source": [
    "show_output_shapes([2,5,3])\n",
    "show_output_shapes([1,3,1])\n",
    "show_output_shapes([1,5,1])\n",
    "show_output_shapes([1,3,2])\n",
    "show_output_shapes([1,5,2])\n",
    "show_output_shapes([2,3,2])\n",
    "show_output_shapes([2,5,2])"
   ]
  },
  {
   "cell_type": "code",
   "execution_count": null,
   "metadata": {
    "collapsed": true
   },
   "outputs": [],
   "source": []
  }
 ],
 "metadata": {
  "kernelspec": {
   "display_name": "Python 3",
   "language": "python",
   "name": "python3"
  },
  "language_info": {
   "codemirror_mode": {
    "name": "ipython",
    "version": 3
   },
   "file_extension": ".py",
   "mimetype": "text/x-python",
   "name": "python",
   "nbconvert_exporter": "python",
   "pygments_lexer": "ipython3",
   "version": "3.5.0"
  }
 },
 "nbformat": 4,
 "nbformat_minor": 1
}
