{
 "cells": [
  {
   "cell_type": "markdown",
   "metadata": {
    "collapsed": true
   },
   "source": [
    "<small>\n",
    "Copyright (c) 2017 Andrew Glassner\n",
    "\n",
    "Permission is hereby granted, free of charge, to any person obtaining a copy of this software and associated documentation files (the \"Software\"), to deal in the Software without restriction, including without limitation the rights to use, copy, modify, merge, publish, distribute, sublicense, and/or sell copies of the Software, and to permit persons to whom the Software is furnished to do so, subject to the following conditions:\n",
    "\n",
    "The above copyright notice and this permission notice shall be included in all copies or substantial portions of the Software.\n",
    "\n",
    "THE SOFTWARE IS PROVIDED \"AS IS\", WITHOUT WARRANTY OF ANY KIND, EXPRESS OR IMPLIED, INCLUDING BUT NOT LIMITED TO THE WARRANTIES OF MERCHANTABILITY, FITNESS FOR A PARTICULAR PURPOSE AND NONINFRINGEMENT. IN NO EVENT SHALL THE AUTHORS OR COPYRIGHT HOLDERS BE LIABLE FOR ANY CLAIM, DAMAGES OR OTHER LIABILITY, WHETHER IN AN ACTION OF CONTRACT, TORT OR OTHERWISE, ARISING FROM, OUT OF OR IN CONNECTION WITH THE SOFTWARE OR THE USE OR OTHER DEALINGS IN THE SOFTWARE.\n",
    "</small>\n",
    "\n",
    "\n",
    "\n",
    "# Deep Learning From Basics to Practice\n",
    "## by Andrew Glassner, https://dlbasics.com, http://glassner.com\n",
    "------\n",
    "## Chapter 23: Keras\n",
    "### Notebook 12: Synthetic Data"
   ]
  },
  {
   "cell_type": "code",
   "execution_count": null,
   "metadata": {
    "collapsed": false
   },
   "outputs": [],
   "source": [
    "from keras.datasets import mnist\n",
    "from keras.models import Sequential\n",
    "from keras.layers.core import Dense, Dropout, Activation, Flatten\n",
    "from keras.layers.convolutional import Conv2D, MaxPooling2D\n",
    "from keras.constraints import maxnorm\n",
    "from keras.optimizers import Adam, SGD, RMSprop\n",
    "from keras.preprocessing.image import ImageDataGenerator\n",
    "from keras.utils import np_utils\n",
    "from sklearn.pipeline import make_pipeline, Pipeline\n",
    "from sklearn.model_selection import GridSearchCV\n",
    "from keras.wrappers.scikit_learn import KerasClassifier\n",
    "from keras.callbacks import EarlyStopping\n",
    "import numpy as np\n",
    "import matplotlib.pyplot as plt\n",
    "\n",
    "from keras.utils import np_utils\n",
    "import numpy as np\n",
    "\n",
    "random_seed = 42\n",
    "np.random.seed(random_seed)\n",
    "\n",
    "image_size = 64\n",
    "image_width = image_height = image_size\n",
    "number_of_classes = 5\n",
    "\n",
    "from keras import backend as keras_backend\n",
    "keras_backend.set_image_data_format('channels_last')"
   ]
  },
  {
   "cell_type": "code",
   "execution_count": null,
   "metadata": {
    "collapsed": true
   },
   "outputs": [],
   "source": [
    "# Make a File_Helper for saving and loading files.\n",
    "\n",
    "save_files = True\n",
    "\n",
    "import os, sys, inspect\n",
    "current_dir = os.path.dirname(os.path.abspath(inspect.getfile(inspect.currentframe())))\n",
    "sys.path.insert(0, os.path.dirname(current_dir)) # path to parent dir\n",
    "from DLBasics_Utilities import File_Helper\n",
    "file_helper = File_Helper(save_files)"
   ]
  },
  {
   "cell_type": "code",
   "execution_count": null,
   "metadata": {
    "collapsed": false
   },
   "outputs": [],
   "source": [
    "# get MNIST data to show a block of transformed images\n",
    "(X_train, y_train), (X_test, y_test) = mnist.load_data()\n",
    "X_train = X_train.reshape(X_train.shape[0], 28, 28, 1)\n",
    "X_test = X_test.reshape(X_test.shape[0], 28, 28, 1)\n",
    "X_train = keras_backend.cast_to_floatx(X_train)\n",
    "X_test = keras_backend.cast_to_floatx(X_test)\n",
    "\n",
    "# Use just one image \n",
    "X_train = np.reshape(8 * [X_train[5]], (8, 28, 28, 1))\n",
    "y_train = 8 * [y_train[5]]\n",
    "\n",
    "image_generator = ImageDataGenerator(rotation_range=100, horizontal_flip=True)\n",
    "image_generator.fit(X_train)\n",
    "\n",
    "for X_batch, y_batch in image_generator.flow(X_train, y_train, batch_size=8, seed=42):\n",
    "    for i in range(0, 8):\n",
    "        plt.subplot(2, 4, i+1)\n",
    "        plt.imshow(X_batch[i].reshape(28, 28), cmap='gray')\n",
    "        plt.xticks([],[])\n",
    "        plt.yticks([],[])\n",
    "    break\n",
    "plt.tight_layout()\n",
    "file_helper.save_figure('MNIST-2-IDG')\n",
    "plt.show()"
   ]
  },
  {
   "cell_type": "code",
   "execution_count": null,
   "metadata": {
    "collapsed": true
   },
   "outputs": [],
   "source": [
    "def plot_accuracy_and_loss(history, plot_title, filename):\n",
    "    xs = range(len(history.history['acc']))\n",
    "\n",
    "    plt.figure(figsize=(10,3))\n",
    "    plt.subplot(1, 2, 1)\n",
    "    plt.plot(xs, history.history['acc'], label='train')\n",
    "    plt.plot(xs, history.history['val_acc'], label='test')\n",
    "    plt.legend(loc='lower left')\n",
    "    plt.xlabel('epochs')\n",
    "    plt.ylabel('accuracy')\n",
    "    plt.title(plot_title+', Accuracy')\n",
    "\n",
    "    plt.subplot(1, 2, 2)\n",
    "    plt.plot(xs, history.history['loss'], label='train')\n",
    "    plt.plot(xs, history.history['val_loss'], label='test')\n",
    "    plt.legend(loc='upper left')\n",
    "    plt.xlabel('epochs')\n",
    "    plt.ylabel('loss')\n",
    "    plt.title(plot_title+', Loss')\n",
    "\n",
    "    #plt.tight_layout()\n",
    "    file_helper.save_figure(filename)\n",
    "    plt.show()"
   ]
  },
  {
   "cell_type": "code",
   "execution_count": null,
   "metadata": {
    "collapsed": true
   },
   "outputs": [],
   "source": [
    "# Make synthetic data. Use random numbers to move the\n",
    "# points around a little so they're all different.\n",
    "# For some reason I thought of this as \"wubbling.\"\n",
    "import numpy as np\n",
    "from numpy.random import randint, uniform\n",
    "from keras.preprocessing.image import img_to_array\n",
    "import cv2\n",
    "import math\n",
    "    \n",
    "def makeSyntheticImage():\n",
    "    # Create a black image\n",
    "    half_size = int(image_size/2.0)\n",
    "    img = np.zeros((image_size, image_size, 3), np.uint8)\n",
    "    img_type = randint(0, number_of_classes)\n",
    "    if img_type == 0: # circle\n",
    "        cx = 32\n",
    "        cy = 32\n",
    "        r = half_size * uniform(.6, .9)\n",
    "        cv2.circle(img, (wub(cx), wub(cy)), int(wub(r)), (255,255,255), 2)\n",
    "    elif img_type == 1: # plus sign\n",
    "        cv2.line(img, (wub(32), wub(10)),(wub(32), wub(54)), (255,255,255), 2)\n",
    "        cv2.line(img, (wub(10), wub(32)),(wub(60), wub(32)), (255,255,255), 2)\n",
    "    elif img_type == 2: # three  lines\n",
    "        cv2.line(img,(wub(15), wub(10)), (wub(15), wub(54)), (255,255,255), 2)\n",
    "        cv2.line(img,(wub(33), wub(10)), (wub(33), wub(54)), (255,255,255), 2)\n",
    "        cv2.line(img,(wub(51), wub(10)), (wub(51), wub(54)), (255,255,255), 2)\n",
    "    elif img_type == 3: # Z\n",
    "        x1 = wub(54)\n",
    "        y1 = wub(10)\n",
    "        x2 = wub(10)\n",
    "        y2 = wub(54)\n",
    "        cv2.line(img, (wub(10), wub(10)), (x1,y1), (255,255,255), 2)\n",
    "        cv2.line(img, (x1, y1), (x2, y2), (255, 255, 255), 2)\n",
    "        cv2.line(img, (x2, y2), (wub(54), wub(54)), (255, 255, 255), 2)\n",
    "    else: # U\n",
    "        x1 = wub(10)\n",
    "        y1 = wub(54)\n",
    "        x2 = wub(54)\n",
    "        y2 = wub(54)\n",
    "        cv2.line(img, (wub(10), wub(10)), (x1,y1), (255,255,255), 2)\n",
    "        cv2.line(img, (x1, y1), (x2, y2), (255, 255, 255), 2)\n",
    "        cv2.line(img, (x2, y2), (wub(54), wub(10)), (255, 255, 255), 2)\n",
    "    sample = img_to_array(img)\n",
    "    sample = sample[:,:,0]/255.0\n",
    "    sample = sample.reshape((sample.shape[0], sample.shape[1], 1))\n",
    "    return (sample, img_type)\n",
    "\n",
    "# create a little wubble (a uniform, or symmetrical, wobble)\n",
    "def wub(p):\n",
    "    range = 5\n",
    "    return randint(p-range, p+range+1)"
   ]
  },
  {
   "cell_type": "code",
   "execution_count": null,
   "metadata": {
    "collapsed": false
   },
   "outputs": [],
   "source": [
    "# Show a grid of random synthetic images\n",
    "np.random.seed(5)\n",
    "num_rows = 5\n",
    "num_columns = 10\n",
    "plt.figure(figsize=(10,6))\n",
    "for y in range(num_rows):\n",
    "    for x in range(num_columns):\n",
    "        index = (y*num_columns)+x\n",
    "        plt.subplot(num_rows, num_columns, 1 + index)\n",
    "        (img, label) = makeSyntheticImage()\n",
    "        img = img.reshape(64, 64)\n",
    "        plt.imshow(img, cmap=plt.get_cmap('gray'))\n",
    "        plt.xticks([],[])\n",
    "        plt.yticks([],[])\n",
    "plt.tight_layout()\n",
    "file_helper.save_figure('synthetic-demo')\n",
    "plt.show()"
   ]
  },
  {
   "cell_type": "code",
   "execution_count": null,
   "metadata": {
    "collapsed": true
   },
   "outputs": [],
   "source": [
    "# build the ImageDataGenerator\n",
    "# adapted from\n",
    "#   https://www.kaggle.com/hexietufts/ultrasound-nerve-segmentation/easy-to-use-keras-imagedatagenerator\n",
    "    \n",
    "import numpy as np\n",
    "import os\n",
    "from numpy.random import randint, uniform\n",
    "import cv2\n",
    "from keras.preprocessing.image import ImageDataGenerator, array_to_img, img_to_array, load_img\n",
    "\n",
    "from keras.preprocessing.image import Iterator, NumpyArrayIterator\n",
    "\n",
    "class SyntheticImageGenerator(ImageDataGenerator):\n",
    "    def __init__(self, batch_size=1, shuffle=True, seed=None):\n",
    "        X = np.zeros(shape=(1, 64, 64, 1)) # 1 instance, of shape (64,64) with 1 channel\n",
    "        self.batch_size = batch_size\n",
    "        super(SyntheticImageGenerator, self).__init__(X.shape[0], batch_size, shuffle, seed)\n",
    "    \n",
    "    # this is why we're here - override the old flow()\n",
    "    def flow(self, X, y=None, batch_size=32, shuffle=True, seed=None,\n",
    "             save_to_dir=None, save_prefix='', save_format='jpeg'):\n",
    "        return SyntheticIterator(\n",
    "            X, y, self,\n",
    "            batch_size=batch_size, shuffle=shuffle, seed=seed,\n",
    "            save_to_dir=save_to_dir, save_prefix=save_prefix, save_format=save_format)\n",
    "    \n",
    "class SyntheticIterator(NumpyArrayIterator):\n",
    "\n",
    "    def __init__(self, X, y, image_data_generator,\n",
    "                 batch_size=32, shuffle=False, seed=None,\n",
    "                 save_to_dir=None, save_prefix='', save_format='jpeg'):\n",
    "        if len(X) != len(y):\n",
    "            raise Exception('X (images tensor) and y (labels) '\n",
    "                            'should have the same length. '\n",
    "                            'Found: X.shape = %s, y.shape = %s' % (np.asarray(X).shape, np.asarray(y).shape))\n",
    "        self.X = X\n",
    "        self.y = y\n",
    "        self.image_data_generator = image_data_generator\n",
    "        self.save_to_dir = save_to_dir\n",
    "        self.save_prefix = save_prefix\n",
    "        self.save_format = save_format\n",
    "        super(NumpyArrayIterator, self).__init__(X.shape[0], batch_size, shuffle, seed)\n",
    "\n",
    "    def next(self):\n",
    "        # for python 2.x.\n",
    "        # Keeps under lock only the mechanism which advances\n",
    "        # the indexing of each batch\n",
    "        # see http://anandology.com/blog/using-iterators-and-generators/\n",
    "        with self.lock:\n",
    "            index_array, current_index, current_batch_size = next(self.index_generator)\n",
    "        # The transformation of images is not under thread lock so it can be done in parallel\n",
    "        batch_x = np.zeros(tuple([current_batch_size] + list(self.X.shape)[1:]))\n",
    "        batch_y = np.zeros(tuple([current_batch_size] + list(self.y.shape)[1:]))\n",
    "        for i, j in enumerate(index_array):\n",
    "            (sample, label) = self._drawImage()\n",
    "            batch_x[i] = sample\n",
    "            batch_y[i] = np_utils.to_categorical([label], number_of_classes)\n",
    "\n",
    "        if self.save_to_dir:\n",
    "            for i in range(current_batch_size):\n",
    "                img = array_to_img(batch_x[i], scale=True)\n",
    "                fname = '{prefix}_{index}_{hash}.{format}'.format(prefix=self.save_prefix,\n",
    "                                                                  index=current_index + i,\n",
    "                                                                  hash=np.random.randint(1e4),\n",
    "                                                                  format=self.save_format)\n",
    "                img.save(os.path.join(self.save_to_dir, fname))\n",
    "        return batch_x, batch_y\n",
    "    \n",
    "    \n",
    "    def _drawImage(self):\n",
    "        return makeSyntheticImage()"
   ]
  },
  {
   "cell_type": "code",
   "execution_count": null,
   "metadata": {
    "collapsed": true
   },
   "outputs": [],
   "source": [
    "# Make a dataset so that we have something to test again when fitting,\n",
    "# and come up with a validation accuracy and loss.\n",
    "def make_dataset(number_of_images):\n",
    "    X = np.zeros(shape=(number_of_images, image_height, image_width, 1))\n",
    "    y = np.zeros(shape=(number_of_images), dtype='uint8')\n",
    "    for i in range(number_of_images):\n",
    "        (sample, label) = makeSyntheticImage()\n",
    "        X[i] = sample\n",
    "        y[i] = label\n",
    "    return (X, y)"
   ]
  },
  {
   "cell_type": "code",
   "execution_count": null,
   "metadata": {
    "collapsed": true
   },
   "outputs": [],
   "source": [
    "# A little routine to set up and run the learning process\n",
    "def generator_run_and_report(model, plot_title, filename, epochs, batch_size, verbosity, steps_per_epoch):\n",
    "    np.random.seed(random_seed)\n",
    "    \n",
    "    # make validation data\n",
    "    (X_test, y_test) = make_dataset(10*batch_size)\n",
    "    y_test = np_utils.to_categorical(y_test, number_of_classes)\n",
    "    \n",
    "    datagen = SyntheticImageGenerator()\n",
    "    dummy_X_train = np.zeros(shape=(batch_size, image_height, image_width, 1))\n",
    "    dummy_y_train = np.zeros(shape=(batch_size, number_of_classes))\n",
    "    history = model.fit_generator(datagen.flow(dummy_X_train, dummy_y_train, batch_size=batch_size, \n",
    "                                               save_to_dir=\"flowdir\"),\n",
    "                                  steps_per_epoch=steps_per_epoch, \n",
    "                                  epochs=epochs, verbose=verbosity,\n",
    "                                  validation_data=(X_test, y_test)\n",
    "                                 )\n",
    "    plot_accuracy_and_loss(history, plot_title, filename)\n",
    "    return history"
   ]
  },
  {
   "cell_type": "code",
   "execution_count": null,
   "metadata": {
    "collapsed": true
   },
   "outputs": [],
   "source": [
    "# build and return our little CNN\n",
    "def make_model():\n",
    "    model = Sequential()\n",
    "    model.add(Conv2D(32, (3, 3), activation='relu', padding='same',\n",
    "                     input_shape=(image_height, image_width, 1)))\n",
    "    model.add(Flatten())\n",
    "    model.add(Dense(number_of_classes, activation='softmax')) \n",
    "    model.compile(loss='categorical_crossentropy', optimizer='adam', metrics=[\"accuracy\"])\n",
    "    return model"
   ]
  },
  {
   "cell_type": "code",
   "execution_count": null,
   "metadata": {
    "collapsed": true
   },
   "outputs": [],
   "source": []
  },
  {
   "cell_type": "code",
   "execution_count": null,
   "metadata": {
    "collapsed": false
   },
   "outputs": [],
   "source": [
    "np.random.seed(random_seed)\n",
    "\n",
    "model = make_model()\n",
    "\n",
    "# steps_per_epoch / batch_size must be an integer (power of 2?) or we get a warning\n",
    "history = generator_run_and_report(model, 'Synthetic CNN', 'Synthetic-CNN',\n",
    "                                   epochs=100, batch_size=128, \n",
    "                                   verbosity=1, steps_per_epoch = 256)"
   ]
  },
  {
   "cell_type": "code",
   "execution_count": null,
   "metadata": {
    "collapsed": true
   },
   "outputs": [],
   "source": []
  },
  {
   "cell_type": "code",
   "execution_count": null,
   "metadata": {
    "collapsed": true
   },
   "outputs": [],
   "source": []
  }
 ],
 "metadata": {
  "kernelspec": {
   "display_name": "Python 3",
   "language": "python",
   "name": "python3"
  },
  "language_info": {
   "codemirror_mode": {
    "name": "ipython",
    "version": 3
   },
   "file_extension": ".py",
   "mimetype": "text/x-python",
   "name": "python",
   "nbconvert_exporter": "python",
   "pygments_lexer": "ipython3",
   "version": "3.5.0"
  }
 },
 "nbformat": 4,
 "nbformat_minor": 1
}
