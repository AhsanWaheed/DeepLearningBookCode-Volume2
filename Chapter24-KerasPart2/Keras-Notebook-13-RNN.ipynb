{
 "cells": [
  {
   "cell_type": "markdown",
   "metadata": {
    "collapsed": true
   },
   "source": [
    "<small>\n",
    "Copyright (c) 2017 Andrew Glassner\n",
    "\n",
    "Permission is hereby granted, free of charge, to any person obtaining a copy of this software and associated documentation files (the \"Software\"), to deal in the Software without restriction, including without limitation the rights to use, copy, modify, merge, publish, distribute, sublicense, and/or sell copies of the Software, and to permit persons to whom the Software is furnished to do so, subject to the following conditions:\n",
    "\n",
    "The above copyright notice and this permission notice shall be included in all copies or substantial portions of the Software.\n",
    "\n",
    "THE SOFTWARE IS PROVIDED \"AS IS\", WITHOUT WARRANTY OF ANY KIND, EXPRESS OR IMPLIED, INCLUDING BUT NOT LIMITED TO THE WARRANTIES OF MERCHANTABILITY, FITNESS FOR A PARTICULAR PURPOSE AND NONINFRINGEMENT. IN NO EVENT SHALL THE AUTHORS OR COPYRIGHT HOLDERS BE LIABLE FOR ANY CLAIM, DAMAGES OR OTHER LIABILITY, WHETHER IN AN ACTION OF CONTRACT, TORT OR OTHERWISE, ARISING FROM, OUT OF OR IN CONNECTION WITH THE SOFTWARE OR THE USE OR OTHER DEALINGS IN THE SOFTWARE.\n",
    "</small>\n",
    "\n",
    "\n",
    "\n",
    "# Deep Learning From Basics to Practice\n",
    "## by Andrew Glassner, https://dlbasics.com, http://glassner.com\n",
    "------\n",
    "## Chapter 23: Keras\n",
    "### Notebook 13: RNN Curves"
   ]
  },
  {
   "cell_type": "code",
   "execution_count": null,
   "metadata": {
    "collapsed": false
   },
   "outputs": [],
   "source": [
    "import numpy as np\n",
    "from keras.models import Sequential\n",
    "from keras.layers import LSTM, Dense\n",
    "from sklearn.preprocessing import MinMaxScaler\n",
    "from sklearn.metrics import mean_squared_error\n",
    "import matplotlib.pyplot as plt\n",
    "import math\n",
    "\n",
    "random_seed = 42"
   ]
  },
  {
   "cell_type": "code",
   "execution_count": null,
   "metadata": {
    "collapsed": true
   },
   "outputs": [],
   "source": [
    "# Make a File_Helper for saving and loading files.\n",
    "\n",
    "save_files = True\n",
    "\n",
    "import os, sys, inspect\n",
    "current_dir = os.path.dirname(os.path.abspath(inspect.getfile(inspect.currentframe())))\n",
    "sys.path.insert(0, os.path.dirname(current_dir)) # path to parent dir\n",
    "from DLBasics_Utilities import File_Helper\n",
    "file_helper = File_Helper(save_files)"
   ]
  },
  {
   "cell_type": "code",
   "execution_count": null,
   "metadata": {
    "collapsed": true
   },
   "outputs": [],
   "source": [
    "def sum_of_sines(number_of_steps, d_theta, skip_steps, freqs, amps, phases):\n",
    "    '''Add together multiple sine waves and return a list of values that is\n",
    "    number_of_steps long. d_theta is the step (in radians) between samples.\n",
    "    skip_steps determines the start of the sequence. The lists freqs, amps,\n",
    "    and phases should all the same length (but we don't check!)'''\n",
    "    values = []\n",
    "    for step_num in range(number_of_steps):\n",
    "        angle = d_theta * (step_num + skip_steps)\n",
    "        sum = 0\n",
    "        for wave in range(len(freqs)):\n",
    "            y = amps[wave] * math.sin(freqs[wave]*(phases[wave] + angle))\n",
    "            sum += y\n",
    "        values.append(sum)\n",
    "    return np.array(values)"
   ]
  },
  {
   "cell_type": "code",
   "execution_count": null,
   "metadata": {
    "collapsed": true
   },
   "outputs": [],
   "source": [
    "def sum_of_upsloping_sines(number_of_steps, d_theta, skip_steps, freqs, amps, phases):\n",
    "    '''Like sum_of_sines(), but always sloping upwards'''\n",
    "    np.random.seed(42)\n",
    "    values = []\n",
    "    for step_num in range(number_of_steps):\n",
    "        angle = d_theta * (step_num + skip_steps)\n",
    "        sum = 0\n",
    "        for wave in range(len(freqs)):\n",
    "            y = amps[wave] * math.sin(freqs[wave]*(phases[wave] + angle))\n",
    "            sum += y\n",
    "        values.append(sum)\n",
    "        if step_num > 0:\n",
    "            sum_change = sum - prev_sum\n",
    "            if sum_change < 0:\n",
    "                values[-1] *= -1\n",
    "                if step_num == 1:\n",
    "                    values[-2] *= -1\n",
    "        prev_sum = sum\n",
    "    return np.array(values)"
   ]
  },
  {
   "cell_type": "code",
   "execution_count": null,
   "metadata": {
    "collapsed": true
   },
   "outputs": [],
   "source": [
    "def samples_and_targets_from_sequence(sequence, window_size):\n",
    "    '''Return lists of samples and targets built from overlapping\n",
    "    windows of the given size. Windows start at the beginning of \n",
    "    the input sequence and move right by 1 element.'''\n",
    "    samples = []\n",
    "    targets = []\n",
    "    for i in range(sequence.shape[0]-window_size):\n",
    "        sample = sequence[i:i+window_size]\n",
    "        target = sequence[i+window_size]\n",
    "        samples.append(sample)\n",
    "        targets.append(target[0]) \n",
    "    return (np.array(samples), np.array(targets))"
   ]
  },
  {
   "cell_type": "code",
   "execution_count": null,
   "metadata": {
    "collapsed": true
   },
   "outputs": [],
   "source": [
    "def make_data(data_sequence_number, training_length):\n",
    "    training_sequence = test_sequence = []\n",
    "    test_length = 200\n",
    "    theta_step = .057\n",
    "    if data_sequence_number == 0:\n",
    "        freqs_list = [1, 2]\n",
    "        amps_list = [1, 2]\n",
    "        phases_list = [0, 0]\n",
    "        data_maker = sum_of_sines\n",
    "    elif data_sequence_number == 1:\n",
    "        freqs_list = [1.1, 1.7, 3.1, 7]\n",
    "        amps_list = [1,2,2,3]\n",
    "        phases_list = [0,0,0,0]\n",
    "        data_maker = sum_of_sines\n",
    "    elif data_sequence_number == 2:\n",
    "        freqs_list = [1.1, 1.7, 3.1, 7]\n",
    "        amps_list = [1,2,2,3]\n",
    "        phases_list = [0,0,0,0]\n",
    "        data_maker = sum_of_upsloping_sines\n",
    "    else:\n",
    "        print(\"***** ERROR! Unknown data_sequence_number = \",data_sequence_number)\n",
    "    training_sequence = data_maker(training_length, theta_step, 0, freqs_list, amps_list, phases_list)\n",
    "    test_sequence = data_maker(test_length, theta_step, 2*training_length, freqs_list, amps_list, phases_list)\n",
    "    return (training_sequence, test_sequence)"
   ]
  },
  {
   "cell_type": "code",
   "execution_count": null,
   "metadata": {
    "collapsed": true
   },
   "outputs": [],
   "source": [
    "def show_data_sets(training_length):\n",
    "    for i in range(0, 3):\n",
    "        (training_sequence, test_sequence) = make_data(i, training_length)\n",
    "        plt.figure(figsize=(8,3))\n",
    "        \n",
    "        plt.subplot(1, 2, 1)\n",
    "        plt.plot(training_sequence)\n",
    "        plt.title('training sequence, set '+str(i))\n",
    "        plt.xlabel('index')\n",
    "        plt.ylabel('value')\n",
    "        \n",
    "        plt.subplot(1, 2, 2)\n",
    "        plt.plot(test_sequence)\n",
    "        plt.title('test sequence, set '+str(i))\n",
    "        plt.xlabel('index')\n",
    "        plt.ylabel('value')\n",
    "        \n",
    "        plt.tight_layout()\n",
    "        file_helper.save_figure('RNN-data-set-'+str(i))\n",
    "        plt.show()"
   ]
  },
  {
   "cell_type": "code",
   "execution_count": null,
   "metadata": {
    "collapsed": false
   },
   "outputs": [],
   "source": [
    "show_data_sets(training_length=200)"
   ]
  },
  {
   "cell_type": "code",
   "execution_count": null,
   "metadata": {
    "collapsed": true
   },
   "outputs": [],
   "source": [
    "def scale_sequences(training_sequence, test_sequence):\n",
    "    # reshape train and test sequences to form needed by MinMaxScaler\n",
    "    training_sequence = np.reshape(training_sequence, (training_sequence.shape[0], 1))\n",
    "    test_sequence = np.reshape(test_sequence, (test_sequence.shape[0], 1))\n",
    "    Min_max_scaler = MinMaxScaler(feature_range=(0, 1))\n",
    "    Min_max_scaler.fit(training_sequence)\n",
    "    scaled_training_sequence = Min_max_scaler.transform(training_sequence)\n",
    "    scaled_test_sequence = Min_max_scaler.transform(test_sequence)\n",
    "    return (Min_max_scaler, scaled_training_sequence, scaled_test_sequence)"
   ]
  },
  {
   "cell_type": "code",
   "execution_count": null,
   "metadata": {
    "collapsed": true
   },
   "outputs": [],
   "source": [
    "# chop up train and test sequences into overlapping windows of the given size\n",
    "def chop_up_sequences(training_sequence, test_sequence, window_size):\n",
    "    (X_train, y_train) = samples_and_targets_from_sequence(training_sequence, window_size)\n",
    "    (X_test, y_test) = samples_and_targets_from_sequence(test_sequence, window_size)\n",
    "    return (X_train, y_train, X_test, y_test)"
   ]
  },
  {
   "cell_type": "code",
   "execution_count": null,
   "metadata": {
    "collapsed": true
   },
   "outputs": [],
   "source": [
    "def make_data_set(data_sequence_number, window_size, training_length):\n",
    "    (training_sequence, test_sequence) = make_data(data_sequence_number, training_length)\n",
    "    (Min_max_scaler, scaled_training_sequence, scaled_test_sequence) = \\\n",
    "            scale_sequences(training_sequence, test_sequence)\n",
    "    (X_train, y_train, X_test, y_test)= chop_up_sequences(scaled_training_sequence, scaled_test_sequence, window_size)\n",
    "    return (Min_max_scaler, X_train, y_train, X_test, y_test, training_sequence, test_sequence)"
   ]
  },
  {
   "cell_type": "code",
   "execution_count": null,
   "metadata": {
    "collapsed": true
   },
   "outputs": [],
   "source": []
  },
  {
   "cell_type": "code",
   "execution_count": null,
   "metadata": {
    "collapsed": true
   },
   "outputs": [],
   "source": []
  },
  {
   "cell_type": "code",
   "execution_count": null,
   "metadata": {
    "collapsed": true
   },
   "outputs": [],
   "source": [
    "# build and run the first model. \n",
    "def make_model(model_number, window_size):\n",
    "    model = Sequential()\n",
    "    if model_number == 0:\n",
    "        model.add(LSTM(3, input_shape=[window_size, 1]))\n",
    "        model.add(Dense(1, activation=None))\n",
    "    elif model_number == 1:\n",
    "        model.add(LSTM(3, return_sequences=True, input_shape=[window_size, 1]))\n",
    "        model.add(LSTM(3))\n",
    "        model.add(Dense(1, activation=None))\n",
    "    elif model_number == 2:\n",
    "        model.add(LSTM(9, return_sequences=True, input_shape=[window_size, 1]))\n",
    "        model.add(LSTM(6, return_sequences=True))\n",
    "        model.add(LSTM(3))\n",
    "        model.add(Dense(1, activation=None))\n",
    "    else:\n",
    "        print(\"*** ERROR: make_model unknown model_number = \",model_number)\n",
    "    model.compile(loss='mean_squared_error', optimizer='adam')\n",
    "    return model"
   ]
  },
  {
   "cell_type": "code",
   "execution_count": null,
   "metadata": {
    "collapsed": true
   },
   "outputs": [],
   "source": [
    "def build_and_compare(model_number, data_set_number, window_size, training_length, epochs):\n",
    "    np.random.seed(random_seed)\n",
    "    model = make_model(model_number, window_size)\n",
    "    (Min_max_scaler, X_train, y_train, X_test, y_test, training_sequence, test_sequence) = \\\n",
    "        make_data_set(data_set_number, window_size, training_length)\n",
    "    history = model.fit(X_train, y_train, epochs=epochs, batch_size=1, verbose=0)\n",
    "    \n",
    "    # Predict \n",
    "    y_train_predict = np.ravel(model.predict(X_train))\n",
    "    y_test_predict = np.ravel(model.predict(X_test))\n",
    "    \n",
    "    # invert transformation\n",
    "    inverse_y_train_predict = Min_max_scaler.inverse_transform([y_train_predict])\n",
    "    inverse_y_test_predict = Min_max_scaler.inverse_transform([y_test_predict])    \n",
    "    \n",
    "    plot_string = '-dataset-'+str(data_set_number)+'-window-'+str(window_size)+\\\n",
    "                    '-model_number-'+str(model_number)+'-length-'+str(training_length)+'-epochs-'+str(epochs)\n",
    "        \n",
    "    plt.plot(history.history['loss'])\n",
    "    plt.xlabel('epoch')\n",
    "    plt.ylabel('loss')\n",
    "    plt.title('Loss for data set '+str(data_set_number)+', window '+str(window_size))\n",
    "    file_helper.save_figure('RNN-loss'+plot_string)\n",
    "    plt.show()\n",
    "    \n",
    "    # plot training and predictions\n",
    "\n",
    "    plt.plot(training_sequence, label=\"train\", color='black', linewidth=2, zorder=20)\n",
    "    skip_values = np.array(window_size*(np.nan,))\n",
    "    flat_predict = np.ravel(inverse_y_train_predict)\n",
    "    plot_predict = np.append(skip_values, flat_predict)\n",
    "    plt.plot(plot_predict, label=\"train predict\", color='red', linewidth=2, zorder=10)\n",
    "    plt.legend(loc='best')\n",
    "    plt.xlabel('index')\n",
    "    plt.ylabel('train and prediction')\n",
    "    plt.title('training set '+str(data_set_number)+', window '+str(window_size))    \n",
    "    file_helper.save_figure('RNN-train-predictions'+plot_string)\n",
    "    plt.show()\n",
    "    \n",
    "    plt.plot(test_sequence, label=\"test\", color='black', linewidth=2, zorder=20)\n",
    "    skip_values = np.array(window_size*(np.nan,))\n",
    "    flat_predict = np.ravel(inverse_y_test_predict)\n",
    "    plot_predict = np.append(skip_values, flat_predict)\n",
    "    plt.plot(plot_predict, label=\"test predict\", color='red', linewidth=2, zorder=10)\n",
    "    plt.legend(loc='best')\n",
    "    plt.xlabel('index')\n",
    "    plt.ylabel('test and prediction')\n",
    "    plt.title('test set '+str(data_set_number)+', window '+str(window_size))\n",
    "    plt.tight_layout()\n",
    "    file_helper.save_figure('RNN-test-predictions'+plot_string)\n",
    "    plt.show()"
   ]
  },
  {
   "cell_type": "code",
   "execution_count": 15,
   "metadata": {
    "collapsed": false
   },
   "outputs": [],
   "source": [
    "build_and_compare(model_number=0, data_set_number=0, window_size=1, training_length=200, epochs=100)\n",
    "build_and_compare(model_number=0, data_set_number=0, window_size=3, training_length=200, epochs=100)\n",
    "build_and_compare(model_number=0, data_set_number=0, window_size=5, training_length=200, epochs=100)\n",
    "\n",
    "build_and_compare(model_number=0, data_set_number=1, window_size=1, training_length=200, epochs=100)\n",
    "build_and_compare(model_number=0, data_set_number=1, window_size=3, training_length=200, epochs=100)\n",
    "build_and_compare(model_number=0, data_set_number=1, window_size=5, training_length=200, epochs=100)\n",
    "\n",
    "build_and_compare(model_number=0, data_set_number=2, window_size=5, training_length=200, epochs=100)\n",
    "\n",
    "build_and_compare(model_number=1, data_set_number=2, window_size=5, training_length=200, epochs=100)\n",
    "\n",
    "build_and_compare(model_number=2, data_set_number=2, window_size=5, training_length=200, epochs=100)\n",
    "build_and_compare(model_number=2, data_set_number=2, window_size=13, training_length=2000, epochs=100)\n",
    "build_and_compare(model_number=2, data_set_number=2, window_size=13, training_length=20000, epochs=100)"
   ]
  },
  {
   "cell_type": "code",
   "execution_count": null,
   "metadata": {
    "collapsed": true
   },
   "outputs": [],
   "source": []
  }
 ],
 "metadata": {
  "kernelspec": {
   "display_name": "Python 3",
   "language": "python",
   "name": "python3"
  },
  "language_info": {
   "codemirror_mode": {
    "name": "ipython",
    "version": 3
   },
   "file_extension": ".py",
   "mimetype": "text/x-python",
   "name": "python",
   "nbconvert_exporter": "python",
   "pygments_lexer": "ipython3",
   "version": "3.5.0"
  }
 },
 "nbformat": 4,
 "nbformat_minor": 1
}
